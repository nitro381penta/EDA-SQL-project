{
 "cells": [
  {
   "cell_type": "code",
   "execution_count": 2,
   "metadata": {},
   "outputs": [],
   "source": [
    "import numpy as np\n",
    "import pandas as pd\n",
    "import matplotlib.pyplot as plt\n",
    "import seaborn as sns"
   ]
  },
  {
   "cell_type": "code",
   "execution_count": 3,
   "metadata": {},
   "outputs": [],
   "source": [
    "# Importing the DataSet\n",
    "impact_vr = pd.read_csv('/Users/julianuss/Downloads/Virtual_Reality_in_Education_Impact.csv')\n",
    "\n",
    "# Creating a DataFrame\n",
    "vr = pd.DataFrame(impact_vr)"
   ]
  },
  {
   "cell_type": "code",
   "execution_count": 4,
   "metadata": {},
   "outputs": [
    {
     "data": {
      "text/html": [
       "<div>\n",
       "<style scoped>\n",
       "    .dataframe tbody tr th:only-of-type {\n",
       "        vertical-align: middle;\n",
       "    }\n",
       "\n",
       "    .dataframe tbody tr th {\n",
       "        vertical-align: top;\n",
       "    }\n",
       "\n",
       "    .dataframe thead th {\n",
       "        text-align: right;\n",
       "    }\n",
       "</style>\n",
       "<table border=\"1\" class=\"dataframe\">\n",
       "  <thead>\n",
       "    <tr style=\"text-align: right;\">\n",
       "      <th></th>\n",
       "      <th>Student_ID</th>\n",
       "      <th>Age</th>\n",
       "      <th>Gender</th>\n",
       "      <th>Grade_Level</th>\n",
       "      <th>Field_of_Study</th>\n",
       "      <th>Usage_of_VR_in_Education</th>\n",
       "      <th>Hours_of_VR_Usage_Per_Week</th>\n",
       "      <th>Engagement_Level</th>\n",
       "      <th>Improvement_in_Learning_Outcomes</th>\n",
       "      <th>Subject</th>\n",
       "      <th>Instructor_VR_Proficiency</th>\n",
       "      <th>Perceived_Effectiveness_of_VR</th>\n",
       "      <th>Access_to_VR_Equipment</th>\n",
       "      <th>Impact_on_Creativity</th>\n",
       "      <th>Stress_Level_with_VR_Usage</th>\n",
       "      <th>Collaboration_with_Peers_via_VR</th>\n",
       "      <th>Feedback_from_Educators_on_VR</th>\n",
       "      <th>Interest_in_Continuing_VR_Based_Learning</th>\n",
       "      <th>Region</th>\n",
       "      <th>School_Support_for_VR_in_Curriculum</th>\n",
       "    </tr>\n",
       "  </thead>\n",
       "  <tbody>\n",
       "    <tr>\n",
       "      <th>0</th>\n",
       "      <td>STUD0001</td>\n",
       "      <td>13</td>\n",
       "      <td>Non-binary</td>\n",
       "      <td>Postgraduate</td>\n",
       "      <td>Science</td>\n",
       "      <td>No</td>\n",
       "      <td>6</td>\n",
       "      <td>1</td>\n",
       "      <td>Yes</td>\n",
       "      <td>Computer Science</td>\n",
       "      <td>Intermediate</td>\n",
       "      <td>3</td>\n",
       "      <td>Yes</td>\n",
       "      <td>5</td>\n",
       "      <td>High</td>\n",
       "      <td>No</td>\n",
       "      <td>Neutral</td>\n",
       "      <td>No</td>\n",
       "      <td>South America</td>\n",
       "      <td>No</td>\n",
       "    </tr>\n",
       "    <tr>\n",
       "      <th>1</th>\n",
       "      <td>STUD0002</td>\n",
       "      <td>16</td>\n",
       "      <td>Non-binary</td>\n",
       "      <td>Undergraduate</td>\n",
       "      <td>Medicine</td>\n",
       "      <td>No</td>\n",
       "      <td>6</td>\n",
       "      <td>1</td>\n",
       "      <td>Yes</td>\n",
       "      <td>Math</td>\n",
       "      <td>Beginner</td>\n",
       "      <td>2</td>\n",
       "      <td>Yes</td>\n",
       "      <td>3</td>\n",
       "      <td>Low</td>\n",
       "      <td>Yes</td>\n",
       "      <td>Positive</td>\n",
       "      <td>No</td>\n",
       "      <td>Oceania</td>\n",
       "      <td>No</td>\n",
       "    </tr>\n",
       "    <tr>\n",
       "      <th>2</th>\n",
       "      <td>STUD0003</td>\n",
       "      <td>15</td>\n",
       "      <td>Prefer not to say</td>\n",
       "      <td>High School</td>\n",
       "      <td>Science</td>\n",
       "      <td>No</td>\n",
       "      <td>4</td>\n",
       "      <td>5</td>\n",
       "      <td>Yes</td>\n",
       "      <td>Art</td>\n",
       "      <td>Advanced</td>\n",
       "      <td>5</td>\n",
       "      <td>Yes</td>\n",
       "      <td>2</td>\n",
       "      <td>Low</td>\n",
       "      <td>Yes</td>\n",
       "      <td>Neutral</td>\n",
       "      <td>Yes</td>\n",
       "      <td>Oceania</td>\n",
       "      <td>No</td>\n",
       "    </tr>\n",
       "    <tr>\n",
       "      <th>3</th>\n",
       "      <td>STUD0004</td>\n",
       "      <td>24</td>\n",
       "      <td>Female</td>\n",
       "      <td>Postgraduate</td>\n",
       "      <td>Engineering</td>\n",
       "      <td>Yes</td>\n",
       "      <td>2</td>\n",
       "      <td>4</td>\n",
       "      <td>No</td>\n",
       "      <td>Economics</td>\n",
       "      <td>Beginner</td>\n",
       "      <td>5</td>\n",
       "      <td>No</td>\n",
       "      <td>3</td>\n",
       "      <td>High</td>\n",
       "      <td>No</td>\n",
       "      <td>Neutral</td>\n",
       "      <td>No</td>\n",
       "      <td>Europe</td>\n",
       "      <td>Yes</td>\n",
       "    </tr>\n",
       "    <tr>\n",
       "      <th>4</th>\n",
       "      <td>STUD0005</td>\n",
       "      <td>22</td>\n",
       "      <td>Non-binary</td>\n",
       "      <td>Undergraduate</td>\n",
       "      <td>Arts</td>\n",
       "      <td>Yes</td>\n",
       "      <td>10</td>\n",
       "      <td>3</td>\n",
       "      <td>No</td>\n",
       "      <td>Art</td>\n",
       "      <td>Beginner</td>\n",
       "      <td>4</td>\n",
       "      <td>Yes</td>\n",
       "      <td>1</td>\n",
       "      <td>Medium</td>\n",
       "      <td>No</td>\n",
       "      <td>Negative</td>\n",
       "      <td>Yes</td>\n",
       "      <td>North America</td>\n",
       "      <td>Yes</td>\n",
       "    </tr>\n",
       "    <tr>\n",
       "      <th>5</th>\n",
       "      <td>STUD0006</td>\n",
       "      <td>28</td>\n",
       "      <td>Male</td>\n",
       "      <td>High School</td>\n",
       "      <td>Science</td>\n",
       "      <td>Yes</td>\n",
       "      <td>10</td>\n",
       "      <td>5</td>\n",
       "      <td>No</td>\n",
       "      <td>Economics</td>\n",
       "      <td>Intermediate</td>\n",
       "      <td>1</td>\n",
       "      <td>Yes</td>\n",
       "      <td>1</td>\n",
       "      <td>Low</td>\n",
       "      <td>No</td>\n",
       "      <td>Neutral</td>\n",
       "      <td>No</td>\n",
       "      <td>Asia</td>\n",
       "      <td>Yes</td>\n",
       "    </tr>\n",
       "    <tr>\n",
       "      <th>6</th>\n",
       "      <td>STUD0007</td>\n",
       "      <td>19</td>\n",
       "      <td>Male</td>\n",
       "      <td>Undergraduate</td>\n",
       "      <td>Business</td>\n",
       "      <td>Yes</td>\n",
       "      <td>9</td>\n",
       "      <td>4</td>\n",
       "      <td>Yes</td>\n",
       "      <td>History</td>\n",
       "      <td>Intermediate</td>\n",
       "      <td>4</td>\n",
       "      <td>Yes</td>\n",
       "      <td>5</td>\n",
       "      <td>Medium</td>\n",
       "      <td>Yes</td>\n",
       "      <td>Neutral</td>\n",
       "      <td>No</td>\n",
       "      <td>North America</td>\n",
       "      <td>Yes</td>\n",
       "    </tr>\n",
       "    <tr>\n",
       "      <th>7</th>\n",
       "      <td>STUD0008</td>\n",
       "      <td>19</td>\n",
       "      <td>Male</td>\n",
       "      <td>High School</td>\n",
       "      <td>Education</td>\n",
       "      <td>No</td>\n",
       "      <td>1</td>\n",
       "      <td>5</td>\n",
       "      <td>No</td>\n",
       "      <td>Physics</td>\n",
       "      <td>Beginner</td>\n",
       "      <td>5</td>\n",
       "      <td>Yes</td>\n",
       "      <td>2</td>\n",
       "      <td>Low</td>\n",
       "      <td>No</td>\n",
       "      <td>Neutral</td>\n",
       "      <td>Yes</td>\n",
       "      <td>Oceania</td>\n",
       "      <td>No</td>\n",
       "    </tr>\n",
       "    <tr>\n",
       "      <th>8</th>\n",
       "      <td>STUD0009</td>\n",
       "      <td>29</td>\n",
       "      <td>Non-binary</td>\n",
       "      <td>Undergraduate</td>\n",
       "      <td>Law</td>\n",
       "      <td>Yes</td>\n",
       "      <td>0</td>\n",
       "      <td>2</td>\n",
       "      <td>Yes</td>\n",
       "      <td>Computer Science</td>\n",
       "      <td>Beginner</td>\n",
       "      <td>2</td>\n",
       "      <td>No</td>\n",
       "      <td>2</td>\n",
       "      <td>High</td>\n",
       "      <td>Yes</td>\n",
       "      <td>Positive</td>\n",
       "      <td>Yes</td>\n",
       "      <td>Asia</td>\n",
       "      <td>No</td>\n",
       "    </tr>\n",
       "    <tr>\n",
       "      <th>9</th>\n",
       "      <td>STUD0010</td>\n",
       "      <td>16</td>\n",
       "      <td>Prefer not to say</td>\n",
       "      <td>Postgraduate</td>\n",
       "      <td>Engineering</td>\n",
       "      <td>Yes</td>\n",
       "      <td>10</td>\n",
       "      <td>5</td>\n",
       "      <td>Yes</td>\n",
       "      <td>Art</td>\n",
       "      <td>Beginner</td>\n",
       "      <td>4</td>\n",
       "      <td>No</td>\n",
       "      <td>1</td>\n",
       "      <td>Medium</td>\n",
       "      <td>Yes</td>\n",
       "      <td>Positive</td>\n",
       "      <td>Yes</td>\n",
       "      <td>Africa</td>\n",
       "      <td>No</td>\n",
       "    </tr>\n",
       "    <tr>\n",
       "      <th>10</th>\n",
       "      <td>STUD0011</td>\n",
       "      <td>26</td>\n",
       "      <td>Male</td>\n",
       "      <td>High School</td>\n",
       "      <td>Business</td>\n",
       "      <td>No</td>\n",
       "      <td>10</td>\n",
       "      <td>1</td>\n",
       "      <td>Yes</td>\n",
       "      <td>Math</td>\n",
       "      <td>Intermediate</td>\n",
       "      <td>3</td>\n",
       "      <td>Yes</td>\n",
       "      <td>1</td>\n",
       "      <td>Low</td>\n",
       "      <td>No</td>\n",
       "      <td>Positive</td>\n",
       "      <td>No</td>\n",
       "      <td>Africa</td>\n",
       "      <td>Yes</td>\n",
       "    </tr>\n",
       "    <tr>\n",
       "      <th>11</th>\n",
       "      <td>STUD0012</td>\n",
       "      <td>15</td>\n",
       "      <td>Non-binary</td>\n",
       "      <td>Undergraduate</td>\n",
       "      <td>Arts</td>\n",
       "      <td>Yes</td>\n",
       "      <td>5</td>\n",
       "      <td>1</td>\n",
       "      <td>Yes</td>\n",
       "      <td>Math</td>\n",
       "      <td>Beginner</td>\n",
       "      <td>1</td>\n",
       "      <td>No</td>\n",
       "      <td>4</td>\n",
       "      <td>Low</td>\n",
       "      <td>No</td>\n",
       "      <td>Negative</td>\n",
       "      <td>No</td>\n",
       "      <td>Oceania</td>\n",
       "      <td>No</td>\n",
       "    </tr>\n",
       "    <tr>\n",
       "      <th>12</th>\n",
       "      <td>STUD0013</td>\n",
       "      <td>22</td>\n",
       "      <td>Male</td>\n",
       "      <td>High School</td>\n",
       "      <td>Business</td>\n",
       "      <td>No</td>\n",
       "      <td>2</td>\n",
       "      <td>5</td>\n",
       "      <td>Yes</td>\n",
       "      <td>Art</td>\n",
       "      <td>Beginner</td>\n",
       "      <td>1</td>\n",
       "      <td>Yes</td>\n",
       "      <td>2</td>\n",
       "      <td>Medium</td>\n",
       "      <td>No</td>\n",
       "      <td>Negative</td>\n",
       "      <td>Yes</td>\n",
       "      <td>North America</td>\n",
       "      <td>Yes</td>\n",
       "    </tr>\n",
       "    <tr>\n",
       "      <th>13</th>\n",
       "      <td>STUD0014</td>\n",
       "      <td>27</td>\n",
       "      <td>Female</td>\n",
       "      <td>Postgraduate</td>\n",
       "      <td>Business</td>\n",
       "      <td>No</td>\n",
       "      <td>9</td>\n",
       "      <td>5</td>\n",
       "      <td>No</td>\n",
       "      <td>Economics</td>\n",
       "      <td>Intermediate</td>\n",
       "      <td>3</td>\n",
       "      <td>No</td>\n",
       "      <td>3</td>\n",
       "      <td>Medium</td>\n",
       "      <td>No</td>\n",
       "      <td>Neutral</td>\n",
       "      <td>No</td>\n",
       "      <td>Oceania</td>\n",
       "      <td>No</td>\n",
       "    </tr>\n",
       "    <tr>\n",
       "      <th>14</th>\n",
       "      <td>STUD0015</td>\n",
       "      <td>21</td>\n",
       "      <td>Prefer not to say</td>\n",
       "      <td>Undergraduate</td>\n",
       "      <td>Law</td>\n",
       "      <td>Yes</td>\n",
       "      <td>2</td>\n",
       "      <td>2</td>\n",
       "      <td>Yes</td>\n",
       "      <td>Math</td>\n",
       "      <td>Intermediate</td>\n",
       "      <td>2</td>\n",
       "      <td>Yes</td>\n",
       "      <td>3</td>\n",
       "      <td>Medium</td>\n",
       "      <td>No</td>\n",
       "      <td>Positive</td>\n",
       "      <td>Yes</td>\n",
       "      <td>North America</td>\n",
       "      <td>Yes</td>\n",
       "    </tr>\n",
       "    <tr>\n",
       "      <th>15</th>\n",
       "      <td>STUD0016</td>\n",
       "      <td>18</td>\n",
       "      <td>Female</td>\n",
       "      <td>Postgraduate</td>\n",
       "      <td>Law</td>\n",
       "      <td>Yes</td>\n",
       "      <td>3</td>\n",
       "      <td>1</td>\n",
       "      <td>Yes</td>\n",
       "      <td>Art</td>\n",
       "      <td>Beginner</td>\n",
       "      <td>5</td>\n",
       "      <td>No</td>\n",
       "      <td>1</td>\n",
       "      <td>High</td>\n",
       "      <td>Yes</td>\n",
       "      <td>Positive</td>\n",
       "      <td>No</td>\n",
       "      <td>Oceania</td>\n",
       "      <td>No</td>\n",
       "    </tr>\n",
       "    <tr>\n",
       "      <th>16</th>\n",
       "      <td>STUD0017</td>\n",
       "      <td>28</td>\n",
       "      <td>Non-binary</td>\n",
       "      <td>Undergraduate</td>\n",
       "      <td>Medicine</td>\n",
       "      <td>No</td>\n",
       "      <td>9</td>\n",
       "      <td>1</td>\n",
       "      <td>Yes</td>\n",
       "      <td>Biology</td>\n",
       "      <td>Beginner</td>\n",
       "      <td>4</td>\n",
       "      <td>Yes</td>\n",
       "      <td>3</td>\n",
       "      <td>Low</td>\n",
       "      <td>Yes</td>\n",
       "      <td>Positive</td>\n",
       "      <td>No</td>\n",
       "      <td>South America</td>\n",
       "      <td>Yes</td>\n",
       "    </tr>\n",
       "    <tr>\n",
       "      <th>17</th>\n",
       "      <td>STUD0018</td>\n",
       "      <td>18</td>\n",
       "      <td>Female</td>\n",
       "      <td>High School</td>\n",
       "      <td>Business</td>\n",
       "      <td>Yes</td>\n",
       "      <td>10</td>\n",
       "      <td>1</td>\n",
       "      <td>No</td>\n",
       "      <td>Economics</td>\n",
       "      <td>Advanced</td>\n",
       "      <td>4</td>\n",
       "      <td>Yes</td>\n",
       "      <td>5</td>\n",
       "      <td>Medium</td>\n",
       "      <td>Yes</td>\n",
       "      <td>Negative</td>\n",
       "      <td>No</td>\n",
       "      <td>Europe</td>\n",
       "      <td>No</td>\n",
       "    </tr>\n",
       "    <tr>\n",
       "      <th>18</th>\n",
       "      <td>STUD0019</td>\n",
       "      <td>16</td>\n",
       "      <td>Female</td>\n",
       "      <td>High School</td>\n",
       "      <td>Law</td>\n",
       "      <td>No</td>\n",
       "      <td>4</td>\n",
       "      <td>3</td>\n",
       "      <td>Yes</td>\n",
       "      <td>Economics</td>\n",
       "      <td>Advanced</td>\n",
       "      <td>5</td>\n",
       "      <td>No</td>\n",
       "      <td>4</td>\n",
       "      <td>High</td>\n",
       "      <td>No</td>\n",
       "      <td>Neutral</td>\n",
       "      <td>Yes</td>\n",
       "      <td>North America</td>\n",
       "      <td>Yes</td>\n",
       "    </tr>\n",
       "    <tr>\n",
       "      <th>19</th>\n",
       "      <td>STUD0020</td>\n",
       "      <td>16</td>\n",
       "      <td>Female</td>\n",
       "      <td>High School</td>\n",
       "      <td>Education</td>\n",
       "      <td>Yes</td>\n",
       "      <td>8</td>\n",
       "      <td>3</td>\n",
       "      <td>Yes</td>\n",
       "      <td>Physics</td>\n",
       "      <td>Intermediate</td>\n",
       "      <td>1</td>\n",
       "      <td>No</td>\n",
       "      <td>3</td>\n",
       "      <td>Medium</td>\n",
       "      <td>Yes</td>\n",
       "      <td>Negative</td>\n",
       "      <td>No</td>\n",
       "      <td>Europe</td>\n",
       "      <td>Yes</td>\n",
       "    </tr>\n",
       "  </tbody>\n",
       "</table>\n",
       "</div>"
      ],
      "text/plain": [
       "   Student_ID  Age             Gender    Grade_Level Field_of_Study  \\\n",
       "0    STUD0001   13         Non-binary   Postgraduate        Science   \n",
       "1    STUD0002   16         Non-binary  Undergraduate       Medicine   \n",
       "2    STUD0003   15  Prefer not to say    High School        Science   \n",
       "3    STUD0004   24             Female   Postgraduate    Engineering   \n",
       "4    STUD0005   22         Non-binary  Undergraduate           Arts   \n",
       "5    STUD0006   28               Male    High School        Science   \n",
       "6    STUD0007   19               Male  Undergraduate       Business   \n",
       "7    STUD0008   19               Male    High School      Education   \n",
       "8    STUD0009   29         Non-binary  Undergraduate            Law   \n",
       "9    STUD0010   16  Prefer not to say   Postgraduate    Engineering   \n",
       "10   STUD0011   26               Male    High School       Business   \n",
       "11   STUD0012   15         Non-binary  Undergraduate           Arts   \n",
       "12   STUD0013   22               Male    High School       Business   \n",
       "13   STUD0014   27             Female   Postgraduate       Business   \n",
       "14   STUD0015   21  Prefer not to say  Undergraduate            Law   \n",
       "15   STUD0016   18             Female   Postgraduate            Law   \n",
       "16   STUD0017   28         Non-binary  Undergraduate       Medicine   \n",
       "17   STUD0018   18             Female    High School       Business   \n",
       "18   STUD0019   16             Female    High School            Law   \n",
       "19   STUD0020   16             Female    High School      Education   \n",
       "\n",
       "   Usage_of_VR_in_Education  Hours_of_VR_Usage_Per_Week  Engagement_Level  \\\n",
       "0                        No                           6                 1   \n",
       "1                        No                           6                 1   \n",
       "2                        No                           4                 5   \n",
       "3                       Yes                           2                 4   \n",
       "4                       Yes                          10                 3   \n",
       "5                       Yes                          10                 5   \n",
       "6                       Yes                           9                 4   \n",
       "7                        No                           1                 5   \n",
       "8                       Yes                           0                 2   \n",
       "9                       Yes                          10                 5   \n",
       "10                       No                          10                 1   \n",
       "11                      Yes                           5                 1   \n",
       "12                       No                           2                 5   \n",
       "13                       No                           9                 5   \n",
       "14                      Yes                           2                 2   \n",
       "15                      Yes                           3                 1   \n",
       "16                       No                           9                 1   \n",
       "17                      Yes                          10                 1   \n",
       "18                       No                           4                 3   \n",
       "19                      Yes                           8                 3   \n",
       "\n",
       "   Improvement_in_Learning_Outcomes           Subject  \\\n",
       "0                               Yes  Computer Science   \n",
       "1                               Yes              Math   \n",
       "2                               Yes               Art   \n",
       "3                                No         Economics   \n",
       "4                                No               Art   \n",
       "5                                No         Economics   \n",
       "6                               Yes           History   \n",
       "7                                No           Physics   \n",
       "8                               Yes  Computer Science   \n",
       "9                               Yes               Art   \n",
       "10                              Yes              Math   \n",
       "11                              Yes              Math   \n",
       "12                              Yes               Art   \n",
       "13                               No         Economics   \n",
       "14                              Yes              Math   \n",
       "15                              Yes               Art   \n",
       "16                              Yes           Biology   \n",
       "17                               No         Economics   \n",
       "18                              Yes         Economics   \n",
       "19                              Yes           Physics   \n",
       "\n",
       "   Instructor_VR_Proficiency  Perceived_Effectiveness_of_VR  \\\n",
       "0               Intermediate                              3   \n",
       "1                   Beginner                              2   \n",
       "2                   Advanced                              5   \n",
       "3                   Beginner                              5   \n",
       "4                   Beginner                              4   \n",
       "5               Intermediate                              1   \n",
       "6               Intermediate                              4   \n",
       "7                   Beginner                              5   \n",
       "8                   Beginner                              2   \n",
       "9                   Beginner                              4   \n",
       "10              Intermediate                              3   \n",
       "11                  Beginner                              1   \n",
       "12                  Beginner                              1   \n",
       "13              Intermediate                              3   \n",
       "14              Intermediate                              2   \n",
       "15                  Beginner                              5   \n",
       "16                  Beginner                              4   \n",
       "17                  Advanced                              4   \n",
       "18                  Advanced                              5   \n",
       "19              Intermediate                              1   \n",
       "\n",
       "   Access_to_VR_Equipment  Impact_on_Creativity Stress_Level_with_VR_Usage  \\\n",
       "0                     Yes                     5                       High   \n",
       "1                     Yes                     3                        Low   \n",
       "2                     Yes                     2                        Low   \n",
       "3                      No                     3                       High   \n",
       "4                     Yes                     1                     Medium   \n",
       "5                     Yes                     1                        Low   \n",
       "6                     Yes                     5                     Medium   \n",
       "7                     Yes                     2                        Low   \n",
       "8                      No                     2                       High   \n",
       "9                      No                     1                     Medium   \n",
       "10                    Yes                     1                        Low   \n",
       "11                     No                     4                        Low   \n",
       "12                    Yes                     2                     Medium   \n",
       "13                     No                     3                     Medium   \n",
       "14                    Yes                     3                     Medium   \n",
       "15                     No                     1                       High   \n",
       "16                    Yes                     3                        Low   \n",
       "17                    Yes                     5                     Medium   \n",
       "18                     No                     4                       High   \n",
       "19                     No                     3                     Medium   \n",
       "\n",
       "   Collaboration_with_Peers_via_VR Feedback_from_Educators_on_VR  \\\n",
       "0                               No                       Neutral   \n",
       "1                              Yes                      Positive   \n",
       "2                              Yes                       Neutral   \n",
       "3                               No                       Neutral   \n",
       "4                               No                      Negative   \n",
       "5                               No                       Neutral   \n",
       "6                              Yes                       Neutral   \n",
       "7                               No                       Neutral   \n",
       "8                              Yes                      Positive   \n",
       "9                              Yes                      Positive   \n",
       "10                              No                      Positive   \n",
       "11                              No                      Negative   \n",
       "12                              No                      Negative   \n",
       "13                              No                       Neutral   \n",
       "14                              No                      Positive   \n",
       "15                             Yes                      Positive   \n",
       "16                             Yes                      Positive   \n",
       "17                             Yes                      Negative   \n",
       "18                              No                       Neutral   \n",
       "19                             Yes                      Negative   \n",
       "\n",
       "   Interest_in_Continuing_VR_Based_Learning         Region  \\\n",
       "0                                        No  South America   \n",
       "1                                        No        Oceania   \n",
       "2                                       Yes        Oceania   \n",
       "3                                        No         Europe   \n",
       "4                                       Yes  North America   \n",
       "5                                        No           Asia   \n",
       "6                                        No  North America   \n",
       "7                                       Yes        Oceania   \n",
       "8                                       Yes           Asia   \n",
       "9                                       Yes         Africa   \n",
       "10                                       No         Africa   \n",
       "11                                       No        Oceania   \n",
       "12                                      Yes  North America   \n",
       "13                                       No        Oceania   \n",
       "14                                      Yes  North America   \n",
       "15                                       No        Oceania   \n",
       "16                                       No  South America   \n",
       "17                                       No         Europe   \n",
       "18                                      Yes  North America   \n",
       "19                                       No         Europe   \n",
       "\n",
       "   School_Support_for_VR_in_Curriculum  \n",
       "0                                   No  \n",
       "1                                   No  \n",
       "2                                   No  \n",
       "3                                  Yes  \n",
       "4                                  Yes  \n",
       "5                                  Yes  \n",
       "6                                  Yes  \n",
       "7                                   No  \n",
       "8                                   No  \n",
       "9                                   No  \n",
       "10                                 Yes  \n",
       "11                                  No  \n",
       "12                                 Yes  \n",
       "13                                  No  \n",
       "14                                 Yes  \n",
       "15                                  No  \n",
       "16                                 Yes  \n",
       "17                                  No  \n",
       "18                                 Yes  \n",
       "19                                 Yes  "
      ]
     },
     "execution_count": 4,
     "metadata": {},
     "output_type": "execute_result"
    }
   ],
   "source": [
    "# Looking at the first 20 rows of the DataFrame for quick overview\n",
    "vr.head(20)"
   ]
  },
  {
   "cell_type": "code",
   "execution_count": 5,
   "metadata": {},
   "outputs": [
    {
     "name": "stdout",
     "output_type": "stream",
     "text": [
      "<class 'pandas.core.frame.DataFrame'>\n",
      "RangeIndex: 5000 entries, 0 to 4999\n",
      "Data columns (total 20 columns):\n",
      " #   Column                                    Non-Null Count  Dtype \n",
      "---  ------                                    --------------  ----- \n",
      " 0   Student_ID                                5000 non-null   object\n",
      " 1   Age                                       5000 non-null   int64 \n",
      " 2   Gender                                    5000 non-null   object\n",
      " 3   Grade_Level                               5000 non-null   object\n",
      " 4   Field_of_Study                            5000 non-null   object\n",
      " 5   Usage_of_VR_in_Education                  5000 non-null   object\n",
      " 6   Hours_of_VR_Usage_Per_Week                5000 non-null   int64 \n",
      " 7   Engagement_Level                          5000 non-null   int64 \n",
      " 8   Improvement_in_Learning_Outcomes          5000 non-null   object\n",
      " 9   Subject                                   5000 non-null   object\n",
      " 10  Instructor_VR_Proficiency                 5000 non-null   object\n",
      " 11  Perceived_Effectiveness_of_VR             5000 non-null   int64 \n",
      " 12  Access_to_VR_Equipment                    5000 non-null   object\n",
      " 13  Impact_on_Creativity                      5000 non-null   int64 \n",
      " 14  Stress_Level_with_VR_Usage                5000 non-null   object\n",
      " 15  Collaboration_with_Peers_via_VR           5000 non-null   object\n",
      " 16  Feedback_from_Educators_on_VR             5000 non-null   object\n",
      " 17  Interest_in_Continuing_VR_Based_Learning  5000 non-null   object\n",
      " 18  Region                                    5000 non-null   object\n",
      " 19  School_Support_for_VR_in_Curriculum       5000 non-null   object\n",
      "dtypes: int64(5), object(15)\n",
      "memory usage: 781.4+ KB\n",
      "None\n",
      "(5000, 20)\n",
      "               Age  Hours_of_VR_Usage_Per_Week  Engagement_Level  \\\n",
      "count  5000.000000                 5000.000000       5000.000000   \n",
      "mean     21.182200                    5.025400          3.021400   \n",
      "std       5.461957                    3.140816          1.427358   \n",
      "min      12.000000                    0.000000          1.000000   \n",
      "25%      16.000000                    2.000000          2.000000   \n",
      "50%      21.000000                    5.000000          3.000000   \n",
      "75%      26.000000                    8.000000          4.000000   \n",
      "max      30.000000                   10.000000          5.000000   \n",
      "\n",
      "       Perceived_Effectiveness_of_VR  Impact_on_Creativity  \n",
      "count                    5000.000000           5000.000000  \n",
      "mean                        2.951600              3.019600  \n",
      "std                         1.417625              1.437508  \n",
      "min                         1.000000              1.000000  \n",
      "25%                         2.000000              2.000000  \n",
      "50%                         3.000000              3.000000  \n",
      "75%                         4.000000              4.000000  \n",
      "max                         5.000000              5.000000  \n",
      "Index(['Student_ID', 'Age', 'Gender', 'Grade_Level', 'Field_of_Study',\n",
      "       'Usage_of_VR_in_Education', 'Hours_of_VR_Usage_Per_Week',\n",
      "       'Engagement_Level', 'Improvement_in_Learning_Outcomes', 'Subject',\n",
      "       'Instructor_VR_Proficiency', 'Perceived_Effectiveness_of_VR',\n",
      "       'Access_to_VR_Equipment', 'Impact_on_Creativity',\n",
      "       'Stress_Level_with_VR_Usage', 'Collaboration_with_Peers_via_VR',\n",
      "       'Feedback_from_Educators_on_VR',\n",
      "       'Interest_in_Continuing_VR_Based_Learning', 'Region',\n",
      "       'School_Support_for_VR_in_Curriculum'],\n",
      "      dtype='object')\n"
     ]
    }
   ],
   "source": [
    "# Looking into the basic details of the DataFrame\n",
    "print(vr.info())\n",
    "print(vr.shape)\n",
    "print(vr.describe())\n",
    "print(vr.columns)"
   ]
  },
  {
   "cell_type": "code",
   "execution_count": 6,
   "metadata": {},
   "outputs": [],
   "source": [
    "# The Dataset has 5000 rows and 20 columns, there are no null values."
   ]
  },
  {
   "cell_type": "code",
   "execution_count": 7,
   "metadata": {},
   "outputs": [
    {
     "name": "stdout",
     "output_type": "stream",
     "text": [
      "5000\n",
      "['STUD0001' 'STUD0002' 'STUD0003' ... 'STUD4998' 'STUD4999' 'STUD5000']\n"
     ]
    }
   ],
   "source": [
    "# Finding out the (number of) unique values for each column\n",
    "\n",
    "# Student_ID\n",
    "print(vr[\"Student_ID\"].nunique())\n",
    "print(vr[\"Student_ID\"].unique())\n",
    "\n",
    "# Student IDs are all unique (primary key, auto-increment)"
   ]
  },
  {
   "cell_type": "code",
   "execution_count": 8,
   "metadata": {},
   "outputs": [
    {
     "name": "stdout",
     "output_type": "stream",
     "text": [
      "19\n",
      "[13 16 15 24 22 28 19 29 26 27 21 18 17 25 23 12 30 14 20]\n",
      "[12, 13, 14, 15, 16, 17, 18, 19, 20, 21, 22, 23, 24, 25, 26, 27, 28, 29, 30]\n"
     ]
    }
   ],
   "source": [
    "# Age\n",
    "print(vr[\"Age\"].nunique())\n",
    "print(vr[\"Age\"].unique())\n",
    "\n",
    "# Finding out the age of students\n",
    "student_ages_sorted = sorted(vr[\"Age\"].unique())\n",
    "int_list_sorted_ages = [int(age) for age in student_ages_sorted]\n",
    "print(int_list_sorted_ages)\n"
   ]
  },
  {
   "cell_type": "code",
   "execution_count": 9,
   "metadata": {},
   "outputs": [
    {
     "name": "stdout",
     "output_type": "stream",
     "text": [
      "The youngest student is 12 years old.\n",
      "The oldest student is 30 years old.\n",
      "The age difference between the youngest and the oldest student is 18 years.\n"
     ]
    }
   ],
   "source": [
    "# Finding out the minimum and maximum age and the age range of the students\n",
    "print(f\"The youngest student is {int_list_sorted_ages[0]} years old.\")\n",
    "print(f\"The oldest student is {int_list_sorted_ages[-1]} years old.\")\n",
    "\n",
    "age_range = int_list_sorted_ages[-1] - int_list_sorted_ages[0]\n",
    "\n",
    "print(f\"The age difference between the youngest and the oldest student is {age_range} years.\")\n",
    "\n",
    "# This already shows that the data was collected from various grade levels.\n"
   ]
  },
  {
   "cell_type": "code",
   "execution_count": 10,
   "metadata": {},
   "outputs": [
    {
     "name": "stdout",
     "output_type": "stream",
     "text": [
      "The mean age is 21.1822, the median is 21.0 and the mode is 21.\n"
     ]
    }
   ],
   "source": [
    "# Calculating the mean, the median and the mode in age\n",
    "mean_age = vr['Age'].mean()\n",
    "median_age = vr['Age'].median()\n",
    "mode_age = vr['Age'].mode().iloc[0] \n",
    "\n",
    "print(f\"The mean age is {mean_age}, the median is {median_age} and the mode is {mode_age}.\")"
   ]
  },
  {
   "cell_type": "code",
   "execution_count": 11,
   "metadata": {},
   "outputs": [
    {
     "name": "stdout",
     "output_type": "stream",
     "text": [
      "The standard deviation is 5.461956586604363.\n",
      "The variance is 29.83296975395079.\n"
     ]
    }
   ],
   "source": [
    "# Calculating the standard deviation and variance\n",
    "print(f\"The standard deviation is {vr['Age'].std()}.\")\n",
    "print(f\"The variance is {vr['Age'].var()}.\")"
   ]
  },
  {
   "cell_type": "code",
   "execution_count": 12,
   "metadata": {},
   "outputs": [
    {
     "data": {
      "text/plain": [
       "<Axes: xlabel='Age', ylabel='count'>"
      ]
     },
     "execution_count": 12,
     "metadata": {},
     "output_type": "execute_result"
    },
    {
     "data": {
      "image/png": "[encoded data removed]",
      "text/plain": [
       "<Figure size 640x480 with 1 Axes>"
      ]
     },
     "metadata": {},
     "output_type": "display_data"
    }
   ],
   "source": [
    "# Visualizing the age \n",
    "sns.countplot(x='Age', data=vr)"
   ]
  },
  {
   "cell_type": "code",
   "execution_count": 13,
   "metadata": {},
   "outputs": [
    {
     "name": "stdout",
     "output_type": "stream",
     "text": [
      "4\n",
      "['Non-binary' 'Prefer not to say' 'Female' 'Male']\n"
     ]
    }
   ],
   "source": [
    "# Gender Unique values\n",
    "print(vr[\"Gender\"].nunique())\n",
    "print(vr[\"Gender\"].unique())"
   ]
  },
  {
   "cell_type": "code",
   "execution_count": 14,
   "metadata": {},
   "outputs": [
    {
     "data": {
      "text/plain": [
       "<Axes: xlabel='Gender', ylabel='count'>"
      ]
     },
     "execution_count": 14,
     "metadata": {},
     "output_type": "execute_result"
    },
    {
     "data": {
      "image/png": "[encoded data removed]",
      "text/plain": [
       "<Figure size 640x480 with 1 Axes>"
      ]
     },
     "metadata": {},
     "output_type": "display_data"
    }
   ],
   "source": [
    "# Visualizing the Gender\n",
    "sns.countplot(x='Gender', data=vr)"
   ]
  },
  {
   "cell_type": "code",
   "execution_count": 15,
   "metadata": {},
   "outputs": [
    {
     "name": "stdout",
     "output_type": "stream",
     "text": [
      "3\n",
      "['Postgraduate' 'Undergraduate' 'High School']\n"
     ]
    }
   ],
   "source": [
    "# Grade Level Unique values\n",
    "print(vr[\"Grade_Level\"].nunique())\n",
    "print(vr[\"Grade_Level\"].unique())\n",
    "\n",
    "# This shows there are students in the Data set that still go to high school "
   ]
  },
  {
   "cell_type": "code",
   "execution_count": 16,
   "metadata": {},
   "outputs": [
    {
     "data": {
      "text/plain": [
       "<Axes: xlabel='Grade_Level', ylabel='count'>"
      ]
     },
     "execution_count": 16,
     "metadata": {},
     "output_type": "execute_result"
    },
    {
     "data": {
      "image/png": "[encoded data removed]",
      "text/plain": [
       "<Figure size 640x480 with 1 Axes>"
      ]
     },
     "metadata": {},
     "output_type": "display_data"
    }
   ],
   "source": [
    "# Visualizing the Grade Level\n",
    "sns.countplot(x='Grade_Level', data=vr)"
   ]
  },
  {
   "cell_type": "code",
   "execution_count": 17,
   "metadata": {},
   "outputs": [
    {
     "name": "stdout",
     "output_type": "stream",
     "text": [
      "7\n",
      "['Science' 'Medicine' 'Engineering' 'Arts' 'Business' 'Education' 'Law']\n",
      "Number of High School students: 1666\n",
      "Number of students in Education: 695\n"
     ]
    }
   ],
   "source": [
    "# Field of Study Unique values\n",
    "print(vr[\"Field_of_Study\"].nunique())\n",
    "print(vr[\"Field_of_Study\"].unique())\n",
    "\n",
    "# The 'Education'-Field of study seems to be used for the high school students\n",
    "\n",
    "# Verifying that by counting occurrences where Grade_Level is 'High School'\n",
    "high_school_count = (vr['Grade_Level'] == 'High School').sum()\n",
    "\n",
    "# Count occurrences where Field_of_Study is 'Education'\n",
    "education_count = (vr['Field_of_Study'] == 'Education').sum()\n",
    "\n",
    "print(f\"Number of High School students: {high_school_count}\")\n",
    "print(f\"Number of students in Education: {education_count}\")"
   ]
  },
  {
   "cell_type": "code",
   "execution_count": 18,
   "metadata": {},
   "outputs": [],
   "source": [
    "# That doesn't seem to be necessarily connected!"
   ]
  },
  {
   "cell_type": "code",
   "execution_count": 19,
   "metadata": {},
   "outputs": [
    {
     "name": "stdout",
     "output_type": "stream",
     "text": [
      "      Grade_Level Student_ID  Age Field_of_Study\n",
      "2     High School   STUD0003   15        Science\n",
      "5     High School   STUD0006   28        Science\n",
      "7     High School   STUD0008   19      Education\n",
      "10    High School   STUD0011   26       Business\n",
      "12    High School   STUD0013   22       Business\n",
      "...           ...        ...  ...            ...\n",
      "4977  High School   STUD4978   24        Science\n",
      "4983  High School   STUD4984   19           Arts\n",
      "4987  High School   STUD4988   24        Science\n",
      "4996  High School   STUD4997   25       Medicine\n",
      "4997  High School   STUD4998   25    Engineering\n",
      "\n",
      "[1666 rows x 4 columns]\n"
     ]
    }
   ],
   "source": [
    "# Creating a table with all the high school students\n",
    "high_school_students = vr[(vr['Grade_Level'] == 'High School')]\n",
    "\n",
    "# Select relevant columns\n",
    "high_school_students = high_school_students[['Grade_Level','Student_ID', 'Age', 'Field_of_Study']]\n",
    "\n",
    "# Display the resulting DataFrame\n",
    "print(high_school_students)"
   ]
  },
  {
   "cell_type": "code",
   "execution_count": 20,
   "metadata": {},
   "outputs": [
    {
     "name": "stdout",
     "output_type": "stream",
     "text": [
      "[15 28 19 26 22 18 16 24 27 23 12 29 14 20 13 30 25 17 21]\n",
      "[12, 13, 14, 15, 16, 17, 18, 19, 20, 21, 22, 23, 24, 25, 26, 27, 28, 29, 30]\n",
      "The youngest high school student is 12 years old.\n",
      "The oldest high school student is 30 years old.\n"
     ]
    }
   ],
   "source": [
    "# Looking at the age of high school students\n",
    "print(high_school_students[\"Age\"].unique())\n",
    "\n",
    "# Finding out the age of students\n",
    "highschool_student_ages_sorted = sorted(high_school_students[\"Age\"].unique())\n",
    "int_list_sorted_ages_highschool_students = [int(age) for age in highschool_student_ages_sorted]\n",
    "print(int_list_sorted_ages_highschool_students)\n",
    "\n",
    "print(f\"The youngest high school student is {int_list_sorted_ages_highschool_students[0]} years old.\")\n",
    "print(f\"The oldest high school student is {int_list_sorted_ages_highschool_students[-1]} years old.\")"
   ]
  },
  {
   "cell_type": "code",
   "execution_count": 21,
   "metadata": {},
   "outputs": [],
   "source": [
    "# This shows the surprising fact that there's an almost unrealistic age range in high school students in the data that seems suspicious.\n",
    "# Anyways the high school students here are from 12 to 30."
   ]
  },
  {
   "cell_type": "code",
   "execution_count": 22,
   "metadata": {},
   "outputs": [
    {
     "data": {
      "text/plain": [
       "<Axes: xlabel='Field_of_Study', ylabel='count'>"
      ]
     },
     "execution_count": 22,
     "metadata": {},
     "output_type": "execute_result"
    },
    {
     "data": {
      "image/png": "[encoded data removed]",
      "text/plain": [
       "<Figure size 640x480 with 1 Axes>"
      ]
     },
     "metadata": {},
     "output_type": "display_data"
    }
   ],
   "source": [
    "# Looking at the fields of study of high school students \n",
    "sns.countplot(x='Field_of_Study', data=high_school_students)"
   ]
  },
  {
   "cell_type": "code",
   "execution_count": 23,
   "metadata": {},
   "outputs": [],
   "source": [
    "# Unlike I thought High school students use VR in all 7 fields of study, surprisingly also fields that are not typical for high school."
   ]
  },
  {
   "cell_type": "code",
   "execution_count": 24,
   "metadata": {},
   "outputs": [
    {
     "name": "stdout",
     "output_type": "stream",
     "text": [
      "        Grade_Level Student_ID  Age Field_of_Study\n",
      "1     Undergraduate   STUD0002   16       Medicine\n",
      "4     Undergraduate   STUD0005   22           Arts\n",
      "6     Undergraduate   STUD0007   19       Business\n",
      "8     Undergraduate   STUD0009   29            Law\n",
      "11    Undergraduate   STUD0012   15           Arts\n",
      "...             ...        ...  ...            ...\n",
      "4992  Undergraduate   STUD4993   28      Education\n",
      "4993  Undergraduate   STUD4994   17            Law\n",
      "4995  Undergraduate   STUD4996   18    Engineering\n",
      "4998  Undergraduate   STUD4999   22        Science\n",
      "4999  Undergraduate   STUD5000   21       Medicine\n",
      "\n",
      "[1685 rows x 4 columns]\n"
     ]
    }
   ],
   "source": [
    "# Creating a table for all Undergraduate students\n",
    "undergraduate_students = vr[(vr['Grade_Level'] == 'Undergraduate')]\n",
    "\n",
    "# Select relevant columns\n",
    "undergraduate_students = undergraduate_students[['Grade_Level','Student_ID', 'Age', 'Field_of_Study']]\n",
    "\n",
    "# Display the resulting DataFrame\n",
    "print(undergraduate_students)"
   ]
  },
  {
   "cell_type": "code",
   "execution_count": 25,
   "metadata": {},
   "outputs": [
    {
     "data": {
      "text/plain": [
       "<Axes: xlabel='Field_of_Study', ylabel='count'>"
      ]
     },
     "execution_count": 25,
     "metadata": {},
     "output_type": "execute_result"
    },
    {
     "data": {
      "image/png": "[encoded data removed]",
      "text/plain": [
       "<Figure size 640x480 with 1 Axes>"
      ]
     },
     "metadata": {},
     "output_type": "display_data"
    }
   ],
   "source": [
    "# Looking at the fields of study of undergraduate students \n",
    "sns.countplot(x='Field_of_Study', data=undergraduate_students)\n"
   ]
  },
  {
   "cell_type": "code",
   "execution_count": 26,
   "metadata": {},
   "outputs": [
    {
     "name": "stdout",
     "output_type": "stream",
     "text": [
      "       Grade_Level Student_ID  Age Field_of_Study\n",
      "0     Postgraduate   STUD0001   13        Science\n",
      "3     Postgraduate   STUD0004   24    Engineering\n",
      "9     Postgraduate   STUD0010   16    Engineering\n",
      "13    Postgraduate   STUD0014   27       Business\n",
      "15    Postgraduate   STUD0016   18            Law\n",
      "...            ...        ...  ...            ...\n",
      "4985  Postgraduate   STUD4986   23    Engineering\n",
      "4986  Postgraduate   STUD4987   29           Arts\n",
      "4988  Postgraduate   STUD4989   17       Medicine\n",
      "4991  Postgraduate   STUD4992   20       Medicine\n",
      "4994  Postgraduate   STUD4995   19      Education\n",
      "\n",
      "[1649 rows x 4 columns]\n"
     ]
    }
   ],
   "source": [
    "# Creating a DataFrame with all the postgraduate students\n",
    "postgraduate_students = vr[(vr['Grade_Level'] == 'Postgraduate')]\n",
    "\n",
    "# Select relevant columns\n",
    "postgraduate_students = postgraduate_students[['Grade_Level','Student_ID', 'Age', 'Field_of_Study']]\n",
    "\n",
    "# Display the resulting DataFrame\n",
    "print(postgraduate_students)"
   ]
  },
  {
   "cell_type": "code",
   "execution_count": 27,
   "metadata": {},
   "outputs": [
    {
     "data": {
      "text/plain": [
       "<Axes: xlabel='Field_of_Study', ylabel='count'>"
      ]
     },
     "execution_count": 27,
     "metadata": {},
     "output_type": "execute_result"
    },
    {
     "data": {
      "image/png": "[encoded data removed]",
      "text/plain": [
       "<Figure size 640x480 with 1 Axes>"
      ]
     },
     "metadata": {},
     "output_type": "display_data"
    }
   ],
   "source": [
    "# Looking at the fields of study of postgraduate students \n",
    "sns.countplot(x='Field_of_Study', data=postgraduate_students)"
   ]
  },
  {
   "cell_type": "code",
   "execution_count": 28,
   "metadata": {},
   "outputs": [
    {
     "name": "stdout",
     "output_type": "stream",
     "text": [
      "            Age             Gender    Grade_Level Field_of_Study  \\\n",
      "Student_ID                                                         \n",
      "STUD0001     13         Non-binary   Postgraduate        Science   \n",
      "STUD0002     16         Non-binary  Undergraduate       Medicine   \n",
      "STUD0003     15  Prefer not to say    High School        Science   \n",
      "STUD0004     24             Female   Postgraduate    Engineering   \n",
      "STUD0005     22         Non-binary  Undergraduate           Arts   \n",
      "...         ...                ...            ...            ...   \n",
      "STUD4996     18               Male  Undergraduate    Engineering   \n",
      "STUD4997     25               Male    High School       Medicine   \n",
      "STUD4998     25             Female    High School    Engineering   \n",
      "STUD4999     22             Female  Undergraduate        Science   \n",
      "STUD5000     21               Male  Undergraduate       Medicine   \n",
      "\n",
      "                   Region  \n",
      "Student_ID                 \n",
      "STUD0001    South America  \n",
      "STUD0002          Oceania  \n",
      "STUD0003          Oceania  \n",
      "STUD0004           Europe  \n",
      "STUD0005    North America  \n",
      "...                   ...  \n",
      "STUD4996             Asia  \n",
      "STUD4997    South America  \n",
      "STUD4998    North America  \n",
      "STUD4999           Africa  \n",
      "STUD5000             Asia  \n",
      "\n",
      "[5000 rows x 5 columns]\n"
     ]
    }
   ],
   "source": [
    "# Creating a DataFrame that shows all the student information\n",
    "students = vr[['Student_ID', 'Age', 'Gender', 'Grade_Level', 'Field_of_Study', 'Region']].set_index('Student_ID')\n",
    "\n",
    "print(students)"
   ]
  },
  {
   "cell_type": "code",
   "execution_count": 29,
   "metadata": {},
   "outputs": [
    {
     "name": "stdout",
     "output_type": "stream",
     "text": [
      "        Grade_Level Field_of_Study           Subject Usage_of_VR_in_Education\n",
      "0      Postgraduate        Science  Computer Science                       No\n",
      "1     Undergraduate       Medicine              Math                       No\n",
      "2       High School        Science               Art                       No\n",
      "3      Postgraduate    Engineering         Economics                      Yes\n",
      "4     Undergraduate           Arts               Art                      Yes\n",
      "...             ...            ...               ...                      ...\n",
      "4995  Undergraduate    Engineering           Biology                       No\n",
      "4996    High School       Medicine               Art                       No\n",
      "4997    High School    Engineering  Computer Science                       No\n",
      "4998  Undergraduate        Science              Math                       No\n",
      "4999  Undergraduate       Medicine         Economics                      Yes\n",
      "\n",
      "[5000 rows x 4 columns]\n"
     ]
    }
   ],
   "source": [
    "# Creating a DataFrame that shows all the student information\n",
    "subjects = vr[['Grade_Level', 'Field_of_Study', 'Subject', 'Usage_of_VR_in_Education']]\n",
    "\n",
    "print(subjects)"
   ]
  },
  {
   "cell_type": "code",
   "execution_count": 30,
   "metadata": {},
   "outputs": [
    {
     "name": "stdout",
     "output_type": "stream",
     "text": [
      "        Grade_Level Field_of_Study           Subject Usage_of_VR_in_Education\n",
      "3      Postgraduate    Engineering         Economics                      Yes\n",
      "4     Undergraduate           Arts               Art                      Yes\n",
      "5       High School        Science         Economics                      Yes\n",
      "6     Undergraduate       Business           History                      Yes\n",
      "8     Undergraduate            Law  Computer Science                      Yes\n",
      "...             ...            ...               ...                      ...\n",
      "4987    High School        Science           Biology                      Yes\n",
      "4992  Undergraduate      Education           History                      Yes\n",
      "4993  Undergraduate            Law           History                      Yes\n",
      "4994   Postgraduate      Education              Math                      Yes\n",
      "4999  Undergraduate       Medicine         Economics                      Yes\n",
      "\n",
      "[2528 rows x 4 columns]\n"
     ]
    }
   ],
   "source": [
    "# Finding out in which fields of study VR is used (used the most and the least)\n",
    "vr_subjects = vr[(vr['Usage_of_VR_in_Education'] == 'Yes')][['Grade_Level', 'Field_of_Study', 'Subject', 'Usage_of_VR_in_Education']]\n",
    "\n",
    "# Displaying the filtered DataFrame\n",
    "print(vr_subjects)"
   ]
  },
  {
   "cell_type": "code",
   "execution_count": 31,
   "metadata": {},
   "outputs": [
    {
     "data": {
      "text/plain": [
       "<Axes: xlabel='Subject', ylabel='count'>"
      ]
     },
     "execution_count": 31,
     "metadata": {},
     "output_type": "execute_result"
    },
    {
     "data": {
      "image/png": "[encoded data removed]",
      "text/plain": [
       "<Figure size 640x480 with 1 Axes>"
      ]
     },
     "metadata": {},
     "output_type": "display_data"
    }
   ],
   "source": [
    "sns.countplot(x='Subject', data=vr_subjects)"
   ]
  },
  {
   "cell_type": "code",
   "execution_count": 32,
   "metadata": {},
   "outputs": [],
   "source": [
    "# In History VR seems to be mostly used but all 7 subjects show a similar count of usage "
   ]
  },
  {
   "cell_type": "code",
   "execution_count": 33,
   "metadata": {},
   "outputs": [],
   "source": [
    "# Investigating further the VR related data"
   ]
  },
  {
   "cell_type": "code",
   "execution_count": 34,
   "metadata": {},
   "outputs": [
    {
     "name": "stdout",
     "output_type": "stream",
     "text": [
      "        Grade_Level Field_of_Study           Subject Usage_of_VR_in_Education  \\\n",
      "0      Postgraduate        Science  Computer Science                       No   \n",
      "1     Undergraduate       Medicine              Math                       No   \n",
      "2       High School        Science               Art                       No   \n",
      "3      Postgraduate    Engineering         Economics                      Yes   \n",
      "4     Undergraduate           Arts               Art                      Yes   \n",
      "...             ...            ...               ...                      ...   \n",
      "4995  Undergraduate    Engineering           Biology                       No   \n",
      "4996    High School       Medicine               Art                       No   \n",
      "4997    High School    Engineering  Computer Science                       No   \n",
      "4998  Undergraduate        Science              Math                       No   \n",
      "4999  Undergraduate       Medicine         Economics                      Yes   \n",
      "\n",
      "      Hours_of_VR_Usage_Per_Week Improvement_in_Learning_Outcomes  \\\n",
      "0                              6                              Yes   \n",
      "1                              6                              Yes   \n",
      "2                              4                              Yes   \n",
      "3                              2                               No   \n",
      "4                             10                               No   \n",
      "...                          ...                              ...   \n",
      "4995                          10                               No   \n",
      "4996                           5                              Yes   \n",
      "4997                           1                               No   \n",
      "4998                           4                              Yes   \n",
      "4999                           1                               No   \n",
      "\n",
      "     Instructor_VR_Proficiency  Perceived_Effectiveness_of_VR  \\\n",
      "0                 Intermediate                              3   \n",
      "1                     Beginner                              2   \n",
      "2                     Advanced                              5   \n",
      "3                     Beginner                              5   \n",
      "4                     Beginner                              4   \n",
      "...                        ...                            ...   \n",
      "4995                  Advanced                              1   \n",
      "4996                  Advanced                              4   \n",
      "4997                  Beginner                              2   \n",
      "4998                  Beginner                              3   \n",
      "4999              Intermediate                              2   \n",
      "\n",
      "     Access_to_VR_Equipment  Impact_on_Creativity Stress_Level_with_VR_Usage  \\\n",
      "0                       Yes                     5                       High   \n",
      "1                       Yes                     3                        Low   \n",
      "2                       Yes                     2                        Low   \n",
      "3                        No                     3                       High   \n",
      "4                       Yes                     1                     Medium   \n",
      "...                     ...                   ...                        ...   \n",
      "4995                    Yes                     1                       High   \n",
      "4996                    Yes                     5                     Medium   \n",
      "4997                     No                     3                        Low   \n",
      "4998                    Yes                     3                        Low   \n",
      "4999                    Yes                     4                        Low   \n",
      "\n",
      "     Collaboration_with_Peers_via_VR Feedback_from_Educators_on_VR  \\\n",
      "0                                 No                       Neutral   \n",
      "1                                Yes                      Positive   \n",
      "2                                Yes                       Neutral   \n",
      "3                                 No                       Neutral   \n",
      "4                                 No                      Negative   \n",
      "...                              ...                           ...   \n",
      "4995                             Yes                       Neutral   \n",
      "4996                              No                      Negative   \n",
      "4997                             Yes                      Negative   \n",
      "4998                              No                      Negative   \n",
      "4999                              No                      Positive   \n",
      "\n",
      "     Interest_in_Continuing_VR_Based_Learning         Region  \\\n",
      "0                                          No  South America   \n",
      "1                                          No        Oceania   \n",
      "2                                         Yes        Oceania   \n",
      "3                                          No         Europe   \n",
      "4                                         Yes  North America   \n",
      "...                                       ...            ...   \n",
      "4995                                      Yes           Asia   \n",
      "4996                                      Yes  South America   \n",
      "4997                                      Yes  North America   \n",
      "4998                                      Yes         Africa   \n",
      "4999                                      Yes           Asia   \n",
      "\n",
      "     School_Support_for_VR_in_Curriculum  \n",
      "0                                     No  \n",
      "1                                     No  \n",
      "2                                     No  \n",
      "3                                    Yes  \n",
      "4                                    Yes  \n",
      "...                                  ...  \n",
      "4995                                  No  \n",
      "4996                                  No  \n",
      "4997                                  No  \n",
      "4998                                  No  \n",
      "4999                                 Yes  \n",
      "\n",
      "[5000 rows x 16 columns]\n"
     ]
    }
   ],
   "source": [
    "vr_usage = vr[['Grade_Level', 'Field_of_Study', 'Subject', 'Usage_of_VR_in_Education', 'Hours_of_VR_Usage_Per_Week', 'Improvement_in_Learning_Outcomes', 'Instructor_VR_Proficiency', 'Perceived_Effectiveness_of_VR', 'Access_to_VR_Equipment', 'Impact_on_Creativity', 'Stress_Level_with_VR_Usage', 'Collaboration_with_Peers_via_VR', 'Feedback_from_Educators_on_VR', 'Interest_in_Continuing_VR_Based_Learning', 'Region', 'School_Support_for_VR_in_Curriculum' ]]\n",
    "\n",
    "print(vr_usage)"
   ]
  },
  {
   "cell_type": "code",
   "execution_count": 35,
   "metadata": {},
   "outputs": [
    {
     "data": {
      "text/plain": [
       "<Axes: xlabel='Improvement_in_Learning_Outcomes', ylabel='count'>"
      ]
     },
     "execution_count": 35,
     "metadata": {},
     "output_type": "execute_result"
    },
    {
     "data": {
      "image/png": "[encoded data removed]",
      "text/plain": [
       "<Figure size 640x480 with 1 Axes>"
      ]
     },
     "metadata": {},
     "output_type": "display_data"
    }
   ],
   "source": [
    "sns.countplot(x = 'Improvement_in_Learning_Outcomes', data=vr_usage)"
   ]
  },
  {
   "cell_type": "code",
   "execution_count": 36,
   "metadata": {},
   "outputs": [
    {
     "name": "stdout",
     "output_type": "stream",
     "text": [
      "['Yes' 'No']\n",
      "['No' 'Yes']\n"
     ]
    }
   ],
   "source": [
    "# This suggests that there is almost no improvement to be counted in learning outcomes. \n",
    "# BUT since there are no values and the only Yes or No, just like in the column if VR is even used for educational purpuses,\n",
    "# it's obvious that there's always a no if VR wasn't even used, so the count of improvement Yes or Nos is misleading.\n",
    "print(vr['Improvement_in_Learning_Outcomes'].unique())\n",
    "print(vr['Usage_of_VR_in_Education'].unique())"
   ]
  },
  {
   "cell_type": "code",
   "execution_count": 37,
   "metadata": {},
   "outputs": [
    {
     "name": "stdout",
     "output_type": "stream",
     "text": [
      "Number of mismatched rows: 1246\n"
     ]
    }
   ],
   "source": [
    "# It has to be verified that the Improvement in Learning outcomes is only related to VR, which means we have to see if \n",
    "# there's a No in Usage of VR in Education there is also a No in Improvement in Learning Outcomes.\n",
    "\n",
    "# Filter rows where 'Usage_of_VR_in_Education' is 'No'\n",
    "no_vr_usage = vr[vr['Usage_of_VR_in_Education'] == 'No']\n",
    "\n",
    "# Check if there are any rows where 'Usage_of_VR_in_Education' is 'No' but 'Improvement_in_Learning_Outcomes' is 'Yes'\n",
    "mismatch = no_vr_usage[no_vr_usage['Improvement_in_Learning_Outcomes'] == 'Yes']\n",
    "\n",
    "# Count the number of mismatched rows\n",
    "number_of_mismatched_rows = mismatch.shape[0]\n",
    "\n",
    "# Print the count\n",
    "print(f\"Number of mismatched rows: {number_of_mismatched_rows}\")"
   ]
  },
  {
   "cell_type": "code",
   "execution_count": 38,
   "metadata": {},
   "outputs": [
    {
     "name": "stdout",
     "output_type": "stream",
     "text": [
      "     Student_ID  Age             Gender    Grade_Level Field_of_Study  \\\n",
      "3      STUD0004   24             Female   Postgraduate    Engineering   \n",
      "4      STUD0005   22         Non-binary  Undergraduate           Arts   \n",
      "5      STUD0006   28               Male    High School        Science   \n",
      "6      STUD0007   19               Male  Undergraduate       Business   \n",
      "8      STUD0009   29         Non-binary  Undergraduate            Law   \n",
      "...         ...  ...                ...            ...            ...   \n",
      "4987   STUD4988   24  Prefer not to say    High School        Science   \n",
      "4992   STUD4993   28  Prefer not to say  Undergraduate      Education   \n",
      "4993   STUD4994   17         Non-binary  Undergraduate            Law   \n",
      "4994   STUD4995   19               Male   Postgraduate      Education   \n",
      "4999   STUD5000   21               Male  Undergraduate       Medicine   \n",
      "\n",
      "     Usage_of_VR_in_Education  Hours_of_VR_Usage_Per_Week  Engagement_Level  \\\n",
      "3                         Yes                           2                 4   \n",
      "4                         Yes                          10                 3   \n",
      "5                         Yes                          10                 5   \n",
      "6                         Yes                           9                 4   \n",
      "8                         Yes                           0                 2   \n",
      "...                       ...                         ...               ...   \n",
      "4987                      Yes                          10                 2   \n",
      "4992                      Yes                           8                 1   \n",
      "4993                      Yes                           7                 4   \n",
      "4994                      Yes                           9                 5   \n",
      "4999                      Yes                           1                 1   \n",
      "\n",
      "     Improvement_in_Learning_Outcomes           Subject  \\\n",
      "3                                  No         Economics   \n",
      "4                                  No               Art   \n",
      "5                                  No         Economics   \n",
      "6                                 Yes           History   \n",
      "8                                 Yes  Computer Science   \n",
      "...                               ...               ...   \n",
      "4987                              Yes           Biology   \n",
      "4992                               No           History   \n",
      "4993                              Yes           History   \n",
      "4994                              Yes              Math   \n",
      "4999                               No         Economics   \n",
      "\n",
      "     Instructor_VR_Proficiency  Perceived_Effectiveness_of_VR  \\\n",
      "3                     Beginner                              5   \n",
      "4                     Beginner                              4   \n",
      "5                 Intermediate                              1   \n",
      "6                 Intermediate                              4   \n",
      "8                     Beginner                              2   \n",
      "...                        ...                            ...   \n",
      "4987              Intermediate                              1   \n",
      "4992                  Beginner                              2   \n",
      "4993                  Advanced                              2   \n",
      "4994                  Advanced                              5   \n",
      "4999              Intermediate                              2   \n",
      "\n",
      "     Access_to_VR_Equipment  Impact_on_Creativity Stress_Level_with_VR_Usage  \\\n",
      "3                        No                     3                       High   \n",
      "4                       Yes                     1                     Medium   \n",
      "5                       Yes                     1                        Low   \n",
      "6                       Yes                     5                     Medium   \n",
      "8                        No                     2                       High   \n",
      "...                     ...                   ...                        ...   \n",
      "4987                     No                     2                     Medium   \n",
      "4992                     No                     1                     Medium   \n",
      "4993                     No                     2                       High   \n",
      "4994                    Yes                     4                        Low   \n",
      "4999                    Yes                     4                        Low   \n",
      "\n",
      "     Collaboration_with_Peers_via_VR Feedback_from_Educators_on_VR  \\\n",
      "3                                 No                       Neutral   \n",
      "4                                 No                      Negative   \n",
      "5                                 No                       Neutral   \n",
      "6                                Yes                       Neutral   \n",
      "8                                Yes                      Positive   \n",
      "...                              ...                           ...   \n",
      "4987                              No                      Negative   \n",
      "4992                              No                      Positive   \n",
      "4993                              No                       Neutral   \n",
      "4994                             Yes                       Neutral   \n",
      "4999                              No                      Positive   \n",
      "\n",
      "     Interest_in_Continuing_VR_Based_Learning         Region  \\\n",
      "3                                          No         Europe   \n",
      "4                                         Yes  North America   \n",
      "5                                          No           Asia   \n",
      "6                                          No  North America   \n",
      "8                                         Yes           Asia   \n",
      "...                                       ...            ...   \n",
      "4987                                       No           Asia   \n",
      "4992                                       No         Europe   \n",
      "4993                                       No  North America   \n",
      "4994                                       No         Africa   \n",
      "4999                                      Yes           Asia   \n",
      "\n",
      "     School_Support_for_VR_in_Curriculum  \n",
      "3                                    Yes  \n",
      "4                                    Yes  \n",
      "5                                    Yes  \n",
      "6                                    Yes  \n",
      "8                                     No  \n",
      "...                                  ...  \n",
      "4987                                  No  \n",
      "4992                                 Yes  \n",
      "4993                                  No  \n",
      "4994                                  No  \n",
      "4999                                 Yes  \n",
      "\n",
      "[2528 rows x 20 columns]\n"
     ]
    }
   ],
   "source": [
    "# So obviously the improvement in learning outcomes is not related to VR.\n",
    "# To evaluate the VR success in students' academic performance, we need to filter where VR was even used.\n",
    "\n",
    "vr_use_in_education = vr[vr['Usage_of_VR_in_Education'] == 'Yes']\n",
    "print(vr_use_in_education)"
   ]
  },
  {
   "cell_type": "code",
   "execution_count": 39,
   "metadata": {},
   "outputs": [
    {
     "name": "stdout",
     "output_type": "stream",
     "text": [
      "[3        No\n",
      "4        No\n",
      "5        No\n",
      "6       Yes\n",
      "8       Yes\n",
      "       ... \n",
      "4987    Yes\n",
      "4992     No\n",
      "4993    Yes\n",
      "4994    Yes\n",
      "4999     No\n",
      "Name: Improvement_in_Learning_Outcomes, Length: 2528, dtype: object]\n"
     ]
    }
   ],
   "source": [
    "print([vr_use_in_education['Improvement_in_Learning_Outcomes']])"
   ]
  },
  {
   "cell_type": "code",
   "execution_count": 40,
   "metadata": {},
   "outputs": [
    {
     "data": {
      "text/plain": [
       "<Axes: xlabel='Improvement_in_Learning_Outcomes', ylabel='count'>"
      ]
     },
     "execution_count": 40,
     "metadata": {},
     "output_type": "execute_result"
    },
    {
     "data": {
      "image/png": "[encoded data removed]",
      "text/plain": [
       "<Figure size 640x480 with 1 Axes>"
      ]
     },
     "metadata": {},
     "output_type": "display_data"
    }
   ],
   "source": [
    "# Visualize where there was an improvement when VR was used\n",
    "\n",
    "sns.countplot(x='Improvement_in_Learning_Outcomes', data=vr_use_in_education)"
   ]
  },
  {
   "cell_type": "code",
   "execution_count": 41,
   "metadata": {},
   "outputs": [],
   "source": [
    "# So it has to be admitted that there was acutally no improvement in learning outcomes.\n",
    "# Anyways there might be other positive effects."
   ]
  },
  {
   "cell_type": "code",
   "execution_count": 42,
   "metadata": {},
   "outputs": [
    {
     "name": "stdout",
     "output_type": "stream",
     "text": [
      "[ 6  4  2 10  9  1  0  5  3  8  7]\n",
      "11\n"
     ]
    }
   ],
   "source": [
    "print(vr['Hours_of_VR_Usage_Per_Week'].unique())\n",
    "print(vr['Hours_of_VR_Usage_Per_Week'].nunique())"
   ]
  },
  {
   "cell_type": "code",
   "execution_count": 43,
   "metadata": {},
   "outputs": [
    {
     "name": "stdout",
     "output_type": "stream",
     "text": [
      "[0, 1, 2, 3, 4, 5, 6, 7, 8, 9, 10]\n"
     ]
    }
   ],
   "source": [
    "hours_of_usage_sorted = sorted(vr['Hours_of_VR_Usage_Per_Week'].unique())\n",
    "int_list_sorted_hours = [int(hours) for hours in hours_of_usage_sorted]\n",
    "print(int_list_sorted_hours)"
   ]
  },
  {
   "cell_type": "code",
   "execution_count": 44,
   "metadata": {},
   "outputs": [
    {
     "name": "stdout",
     "output_type": "stream",
     "text": [
      "The range between the hours to use VR per week is 10.\n",
      "The mean hours spent in VR per week are 5.0254, the median are 5.0 and the mode are 6 hours spent in VR.\n"
     ]
    }
   ],
   "source": [
    "# Calculating the hour range of VR usage, the mean, the median and the mode of VR usage\n",
    "hour_range = int_list_sorted_hours[-1] - int_list_sorted_hours[0]\n",
    "print(f\"The range between the hours to use VR per week is {hour_range}.\")\n",
    "\n",
    "mean_hours = vr['Hours_of_VR_Usage_Per_Week'].mean()\n",
    "median_hours = vr['Hours_of_VR_Usage_Per_Week'].median()\n",
    "mode_hours = vr['Hours_of_VR_Usage_Per_Week'].mode().iloc[0] \n",
    "\n",
    "print(f\"The mean hours spent in VR per week are {mean_hours}, the median are {median_hours} and the mode are {mode_hours} hours spent in VR.\")"
   ]
  },
  {
   "cell_type": "code",
   "execution_count": 45,
   "metadata": {},
   "outputs": [
    {
     "name": "stdout",
     "output_type": "stream",
     "text": [
      "[1 5 4 3 2]\n",
      "5\n"
     ]
    }
   ],
   "source": [
    "print(vr['Engagement_Level'].unique())\n",
    "print(vr['Engagement_Level'].nunique())\n",
    "\n",
    "# Engagement levels can be rated from 1 - 5"
   ]
  },
  {
   "cell_type": "code",
   "execution_count": 46,
   "metadata": {},
   "outputs": [
    {
     "name": "stdout",
     "output_type": "stream",
     "text": [
      "['Intermediate' 'Beginner' 'Advanced']\n",
      "3\n"
     ]
    }
   ],
   "source": [
    "print(vr['Instructor_VR_Proficiency'].unique())\n",
    "print(vr['Instructor_VR_Proficiency'].nunique())\n",
    "\n",
    "# Instructors VR proficiency can be beginner, intermediate or advanced"
   ]
  },
  {
   "cell_type": "code",
   "execution_count": 47,
   "metadata": {},
   "outputs": [
    {
     "name": "stdout",
     "output_type": "stream",
     "text": [
      "[3 2 5 4 1]\n",
      "5\n"
     ]
    }
   ],
   "source": [
    "print(vr['Perceived_Effectiveness_of_VR'].unique())\n",
    "print(vr['Perceived_Effectiveness_of_VR'].nunique())\n",
    "\n",
    "# Since we found out around half of the students in the DataSet haven't even used VR this is again misleading since there are \n",
    "# no null values for the students that haven't used VR.\n",
    "\n",
    "# Again we can only rate the perceived effectiveness for those students who actually used it. (= vr_use_in_education)\n"
   ]
  },
  {
   "cell_type": "code",
   "execution_count": 48,
   "metadata": {},
   "outputs": [
    {
     "data": {
      "text/plain": [
       "<Axes: xlabel='Perceived_Effectiveness_of_VR', ylabel='count'>"
      ]
     },
     "execution_count": 48,
     "metadata": {},
     "output_type": "execute_result"
    },
    {
     "data": {
      "image/png": "[encoded data removed]",
      "text/plain": [
       "<Figure size 640x480 with 1 Axes>"
      ]
     },
     "metadata": {},
     "output_type": "display_data"
    }
   ],
   "source": [
    "# Visualizing the perceived effectiveness of VR\n",
    "sns.countplot(x='Perceived_Effectiveness_of_VR', data=vr_use_in_education)"
   ]
  },
  {
   "cell_type": "code",
   "execution_count": 49,
   "metadata": {},
   "outputs": [
    {
     "name": "stdout",
     "output_type": "stream",
     "text": [
      "[5 3 2 1 4]\n",
      "5\n"
     ]
    },
    {
     "data": {
      "text/plain": [
       "<Axes: xlabel='Impact_on_Creativity', ylabel='count'>"
      ]
     },
     "execution_count": 49,
     "metadata": {},
     "output_type": "execute_result"
    },
    {
     "data": {
      "image/png": "[encoded data removed]",
      "text/plain": [
       "<Figure size 640x480 with 1 Axes>"
      ]
     },
     "metadata": {},
     "output_type": "display_data"
    }
   ],
   "source": [
    "# Same with impact on creativity\n",
    "print(vr['Impact_on_Creativity'].unique())\n",
    "print(vr['Impact_on_Creativity'].nunique())\n",
    "\n",
    "sns.countplot(x='Impact_on_Creativity', data=vr_use_in_education)"
   ]
  },
  {
   "cell_type": "code",
   "execution_count": 50,
   "metadata": {},
   "outputs": [
    {
     "data": {
      "text/plain": [
       "<Axes: xlabel='Stress_Level_with_VR_Usage', ylabel='count'>"
      ]
     },
     "execution_count": 50,
     "metadata": {},
     "output_type": "execute_result"
    },
    {
     "data": {
      "image/png": "[encoded data removed]",
      "text/plain": [
       "<Figure size 640x480 with 1 Axes>"
      ]
     },
     "metadata": {},
     "output_type": "display_data"
    }
   ],
   "source": [
    "sns.countplot(x='Stress_Level_with_VR_Usage', data=vr_use_in_education)"
   ]
  },
  {
   "cell_type": "code",
   "execution_count": 51,
   "metadata": {},
   "outputs": [
    {
     "data": {
      "text/plain": [
       "<Axes: xlabel='Region', ylabel='count'>"
      ]
     },
     "execution_count": 51,
     "metadata": {},
     "output_type": "execute_result"
    },
    {
     "data": {
      "image/png": "[encoded data removed]",
      "text/plain": [
       "<Figure size 640x480 with 1 Axes>"
      ]
     },
     "metadata": {},
     "output_type": "display_data"
    }
   ],
   "source": [
    "# Counting the VR use by region\n",
    "sns.countplot(x='Region',data=vr_use_in_education)"
   ]
  },
  {
   "cell_type": "code",
   "execution_count": 52,
   "metadata": {},
   "outputs": [],
   "source": [
    "# This result is actually surprising."
   ]
  },
  {
   "cell_type": "code",
   "execution_count": 53,
   "metadata": {},
   "outputs": [],
   "source": [
    "students.to_csv('students.csv',index='Student_ID')\n",
    "subjects.to_csv('subjects.csv',index=False)\n",
    "vr_usage.to_csv('vr_usage.csv',index=False)"
   ]
  },
  {
   "cell_type": "code",
   "execution_count": 68,
   "metadata": {},
   "outputs": [],
   "source": [
    "import mysql.connector\n",
    "\n",
    "# Connect to the MySQL database\n",
    "cnx = mysql.connector.connect(\n",
    "    host='localhost', \n",
    "    port=3306,\n",
    "    user='Julia', \n",
    "    password='asphodelaceae',\n",
    "    database='Virtual_Reality_in_Education_Impact'  \n",
    ")\n",
    "cursor = cnx.cursor()\n",
    "\n",
    "# Query to create the 'students' table\n",
    "create_table_query = \"\"\"\n",
    "CREATE TABLE IF NOT EXISTS students (\n",
    "    Student_ID VARCHAR(50) PRIMARY KEY,\n",
    "    Age INT,\n",
    "    Gender VARCHAR(50),\n",
    "    Grade_Level VARCHAR(50),\n",
    "    Field_of_Study VARCHAR(100),\n",
    "    Region VARCHAR(50)\n",
    ");\n",
    "\"\"\"\n",
    "cursor.execute(create_table_query)\n",
    "\n",
    "# Read the CSV file\n",
    "import pandas as pd\n",
    "students_df = pd.read_csv('/Users/julianuss/Documents/GitHub/project-2-eda-sql/students.csv')\n",
    "\n",
    "# Insert data into the 'student' table\n",
    "insert_query = \"\"\"\n",
    "INSERT INTO students (Student_ID, Age, Gender, Grade_Level, Field_of_Study, Region) \n",
    "VALUES (%s, %s, %s, %s, %s, %s);\n",
    "\"\"\"\n",
    "\n",
    "# Loop through the dataframe and insert each row\n",
    "for index, row in students_df.iterrows():\n",
    "    cursor.execute(insert_query, tuple(row))\n",
    "\n",
    "# Commit the changes and close the connection\n",
    "cnx.commit()\n",
    "cursor.close()\n",
    "cnx.close()"
   ]
  },
  {
   "cell_type": "code",
   "execution_count": 69,
   "metadata": {},
   "outputs": [],
   "source": [
    "\n",
    "# Connect to the MySQL database\n",
    "cnx = mysql.connector.connect(\n",
    "    host='localhost', \n",
    "    port=3306,\n",
    "    user='Julia', \n",
    "    password='asphodelaceae',\n",
    "    database='Virtual_Reality_in_Education_Impact'  \n",
    ")\n",
    "cursor = cnx.cursor()\n",
    "\n",
    "# Query to create the 'subjects' table\n",
    "create_table_query = \"\"\"\n",
    "CREATE TABLE IF NOT EXISTS subjects (\n",
    "    Grade_Level VARCHAR(50),\n",
    "    Field_of_Study VARCHAR(100),\n",
    "    Subject VARCHAR(100),\n",
    "    Usage_of_VR_in_Education VARCHAR(10)\n",
    ");\n",
    "\"\"\"\n",
    "cursor.execute(create_table_query)\n",
    "\n",
    "# Read the CSV file\n",
    "subjects_df = pd.read_csv('/Users/julianuss/Documents/GitHub/project-2-eda-sql/subjects.csv')\n",
    "\n",
    "# Insert data into the 'subjects' table\n",
    "insert_query = \"\"\"\n",
    "INSERT INTO subjects (Grade_Level, Field_of_Study, Subject, Usage_of_VR_in_Education) \n",
    "VALUES (%s, %s, %s, %s);\n",
    "\"\"\"\n",
    "\n",
    "# Loop through the dataframe and insert each row\n",
    "for index, row in subjects_df.iterrows():\n",
    "    cursor.execute(insert_query, tuple(row))\n",
    "\n",
    "# Commit the changes and close the connection\n",
    "cnx.commit()\n",
    "cursor.close()\n",
    "cnx.close()"
   ]
  },
  {
   "cell_type": "code",
   "execution_count": 70,
   "metadata": {},
   "outputs": [],
   "source": [
    "# Connect to the MySQL database\n",
    "cnx = mysql.connector.connect(\n",
    "    host='localhost', \n",
    "    port=3306,\n",
    "    user='Julia', \n",
    "    password='asphodelaceae',\n",
    "    database='Virtual_Reality_in_Education_Impact'  \n",
    ")\n",
    "cursor = cnx.cursor()\n",
    "\n",
    "# Query to create the 'vr_usage' table\n",
    "create_table_query = \"\"\"\n",
    "CREATE TABLE IF NOT EXISTS vr_usage (\n",
    "    Grade_Level VARCHAR(50),\n",
    "    Field_of_Study VARCHAR(100),\n",
    "    Subject VARCHAR(100),\n",
    "    Usage_of_VR_in_Education VARCHAR(10),\n",
    "    Hours_of_VR_Usage_Per_Week INT,\n",
    "    Improvement_in_Learning_Outcomes VARCHAR(10),\n",
    "    Instructor_VR_Proficiency VARCHAR(50),\n",
    "    Perceived_Effectiveness_of_VR INT,\n",
    "    Access_to_VR_Equipment VARCHAR(10),\n",
    "    Impact_on_Creativity VARCHAR(50),\n",
    "    Stress_Level_with_VR_Usage VARCHAR(50),\n",
    "    Collaboration_with_Peers_via_VR VARCHAR(50),\n",
    "    Feedback_from_Educators_on_VR VARCHAR(50),\n",
    "    Interest_in_Continuing_VR_Based_Learning VARCHAR(50),\n",
    "    Region VARCHAR(50),\n",
    "    School_Support_for_VR_in_Curriculum VARCHAR(50)\n",
    ");\n",
    "\"\"\"\n",
    "cursor.execute(create_table_query)\n",
    "\n",
    "# Read the CSV file\n",
    "vr_usage_df = pd.read_csv('/Users/julianuss/Documents/GitHub/project-2-eda-sql/vr_usage.csv')\n",
    "\n",
    "# Insert data into the 'vr_usage' table\n",
    "insert_query = \"\"\"\n",
    "INSERT INTO vr_usage (\n",
    "    Grade_Level, Field_of_Study, Subject, Usage_of_VR_in_Education, \n",
    "    Hours_of_VR_Usage_Per_Week, Improvement_in_Learning_Outcomes, \n",
    "    Instructor_VR_Proficiency, Perceived_Effectiveness_of_VR, Access_to_VR_Equipment, \n",
    "    Impact_on_Creativity, Stress_Level_with_VR_Usage, Collaboration_with_Peers_via_VR, \n",
    "    Feedback_from_Educators_on_VR, Interest_in_Continuing_VR_Based_Learning, \n",
    "    Region, School_Support_for_VR_in_Curriculum\n",
    ") \n",
    "VALUES (%s, %s, %s, %s, %s, %s, %s, %s, %s, %s, %s, %s, %s, %s, %s, %s);\n",
    "\"\"\"\n",
    "\n",
    "# Loop through the dataframe and insert each row\n",
    "for index, row in vr_usage_df.iterrows():\n",
    "    cursor.execute(insert_query, tuple(row))\n",
    "\n",
    "# Commit the changes and close the connection\n",
    "cnx.commit()\n",
    "cursor.close()\n",
    "cnx.close()"
   ]
  }
 ],
 "metadata": {
  "kernelspec": {
   "display_name": "Python 3",
   "language": "python",
   "name": "python3"
  },
  "language_info": {
   "codemirror_mode": {
    "name": "ipython",
    "version": 3
   },
   "file_extension": ".py",
   "mimetype": "text/x-python",
   "name": "python",
   "nbconvert_exporter": "python",
   "pygments_lexer": "ipython3",
   "version": "3.12.0"
  }
 },
 "nbformat": 4,
 "nbformat_minor": 2
}
